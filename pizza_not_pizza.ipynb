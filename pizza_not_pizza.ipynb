{
  "cells": [
    {
      "cell_type": "markdown",
      "metadata": {
        "id": "view-in-github",
        "colab_type": "text"
      },
      "source": [
        "<a href=\"https://colab.research.google.com/github/tural199823/pizza_not_pizza/blob/main/pizza_not_pizza.ipynb\" target=\"_parent\"><img src=\"https://colab.research.google.com/assets/colab-badge.svg\" alt=\"Open In Colab\"/></a>"
      ]
    },
    {
      "cell_type": "code",
      "execution_count": 1,
      "metadata": {
        "id": "ZL598xq8SvlM"
      },
      "outputs": [],
      "source": [
        "from keras.preprocessing.image import ImageDataGenerator\n",
        "from keras.models import Sequential\n",
        "from keras.layers import Conv2D, MaxPooling2D\n",
        "from tensorflow.keras.layers import BatchNormalization, Conv2D, Dense, MaxPooling2D, Flatten, Dropout, Activation\n",
        "import os\n",
        "import pathlib\n",
        "import pandas as pd\n",
        "import numpy as np\n",
        "import matplotlib.pyplot as plt\n",
        "import tensorflow as tf\n",
        "from tensorflow.keras.optimizers import Adam"
      ]
    },
    {
      "cell_type": "markdown",
      "metadata": {
        "id": "eIuOU2zefSVz"
      },
      "source": []
    },
    {
      "cell_type": "code",
      "execution_count": 4,
      "metadata": {
        "colab": {
          "base_uri": "https://localhost:8080/"
        },
        "id": "asGzqfPYPOQy",
        "outputId": "62af4174-0922-4c22-dc0e-823a7f9e4d4c"
      },
      "outputs": [
        {
          "output_type": "stream",
          "name": "stdout",
          "text": [
            "Mounted at /content/drive\n"
          ]
        }
      ],
      "source": [
        "from google.colab import drive\n",
        "drive.mount('/content/drive')"
      ]
    },
    {
      "cell_type": "code",
      "execution_count": null,
      "metadata": {
        "id": "rT-Vd0SvQjyq"
      },
      "outputs": [],
      "source": [
        "!unzip /content/drive/MyDrive/pnp.zip"
      ]
    },
    {
      "cell_type": "code",
      "execution_count": 9,
      "metadata": {
        "id": "9Kj8ASrlQ4cs"
      },
      "outputs": [],
      "source": [
        "pizza_path = '../content/pizza_not_pizza/pizza'\n",
        "not_pizza_path = '../content/pizza_not_pizza/not_pizza'\n",
        "data_dir = '../content/pizza_not_pizza'"
      ]
    },
    {
      "cell_type": "code",
      "execution_count": 10,
      "metadata": {
        "colab": {
          "base_uri": "https://localhost:8080/"
        },
        "id": "jhMEgaeITuxX",
        "outputId": "b61cc4b6-08ff-4d55-e95e-2d1f8367890b"
      },
      "outputs": [
        {
          "output_type": "stream",
          "name": "stdout",
          "text": [
            "Number of Pizza images: 983\n",
            "Number of Non-Pizza images: 983\n"
          ]
        }
      ],
      "source": [
        "num_pizza_images = len(os.listdir(pizza_path))\n",
        "non_pizza_images = len(os.listdir(not_pizza_path))\n",
        "print(f'Number of Pizza images: {num_pizza_images}')\n",
        "print(f'Number of Non-Pizza images: {non_pizza_images}')"
      ]
    },
    {
      "cell_type": "code",
      "execution_count": null,
      "metadata": {
        "colab": {
          "base_uri": "https://localhost:8080/"
        },
        "id": "gMI34ioeT8js",
        "outputId": "b792827c-7dda-4764-c7eb-46a8d0e8dabd"
      },
      "outputs": [
        {
          "name": "stdout",
          "output_type": "stream",
          "text": [
            "/content\n"
          ]
        }
      ],
      "source": [
        "print(os.getcwd())"
      ]
    },
    {
      "cell_type": "code",
      "execution_count": null,
      "metadata": {
        "id": "-2C297yRUbpn"
      },
      "outputs": [],
      "source": [
        "os.listdir(pizza_path)"
      ]
    },
    {
      "cell_type": "code",
      "execution_count": 12,
      "metadata": {
        "id": "jQc6ucpsXR0j"
      },
      "outputs": [],
      "source": [
        "IMAGE_HEIGHT = 200\n",
        "IMAGE_WIDTH = 200"
      ]
    },
    {
      "cell_type": "code",
      "execution_count": 13,
      "metadata": {
        "colab": {
          "base_uri": "https://localhost:8080/"
        },
        "id": "omoqwMnpVa4R",
        "outputId": "34668757-9efb-46d7-a307-0006fc0d08ae"
      },
      "outputs": [
        {
          "output_type": "stream",
          "name": "stdout",
          "text": [
            "Found 1574 images belonging to 2 classes.\n",
            "Found 392 images belonging to 2 classes.\n"
          ]
        }
      ],
      "source": [
        "data_gen = ImageDataGenerator(rescale = 1/255., validation_split = 0.2,\n",
        "                              zoom_range = 0.2,\n",
        "                              horizontal_flip= True,\n",
        "                              rotation_range = 20,\n",
        "                              width_shift_range=0.2,\n",
        "                              height_shift_range=0.2)\n",
        "\n",
        "training_images = data_gen.flow_from_directory(data_dir,\n",
        "                                          target_size = (IMAGE_HEIGHT,IMAGE_WIDTH),\n",
        "                                          batch_size = 32,\n",
        "                                          subset = 'training',\n",
        "                                          class_mode = 'binary')\n",
        "\n",
        "validation_images = data_gen.flow_from_directory(data_dir,\n",
        "                                          target_size = (IMAGE_HEIGHT,IMAGE_WIDTH),\n",
        "                                          batch_size = 32,\n",
        "                                          subset = 'validation',\n",
        "                                          class_mode = 'binary')"
      ]
    },
    {
      "cell_type": "code",
      "execution_count": 14,
      "metadata": {
        "colab": {
          "base_uri": "https://localhost:8080/"
        },
        "id": "kAGRU3NvX5sT",
        "outputId": "1abc2eab-e040-44e0-8845-a1e383ac7b4f"
      },
      "outputs": [
        {
          "output_type": "stream",
          "name": "stdout",
          "text": [
            "Model: \"sequential\"\n",
            "_________________________________________________________________\n",
            " Layer (type)                Output Shape              Param #   \n",
            "=================================================================\n",
            " conv2d (Conv2D)             (None, 200, 200, 32)      896       \n",
            "                                                                 \n",
            " batch_normalization (Batch  (None, 200, 200, 32)      128       \n",
            " Normalization)                                                  \n",
            "                                                                 \n",
            " conv2d_1 (Conv2D)           (None, 200, 200, 32)      9248      \n",
            "                                                                 \n",
            " batch_normalization_1 (Bat  (None, 200, 200, 32)      128       \n",
            " chNormalization)                                                \n",
            "                                                                 \n",
            " max_pooling2d (MaxPooling2  (None, 100, 100, 32)      0         \n",
            " D)                                                              \n",
            "                                                                 \n",
            " dropout (Dropout)           (None, 100, 100, 32)      0         \n",
            "                                                                 \n",
            " conv2d_2 (Conv2D)           (None, 100, 100, 64)      18496     \n",
            "                                                                 \n",
            " batch_normalization_2 (Bat  (None, 100, 100, 64)      256       \n",
            " chNormalization)                                                \n",
            "                                                                 \n",
            " conv2d_3 (Conv2D)           (None, 100, 100, 64)      36928     \n",
            "                                                                 \n",
            " batch_normalization_3 (Bat  (None, 100, 100, 64)      256       \n",
            " chNormalization)                                                \n",
            "                                                                 \n",
            " max_pooling2d_1 (MaxPoolin  (None, 50, 50, 64)        0         \n",
            " g2D)                                                            \n",
            "                                                                 \n",
            " conv2d_4 (Conv2D)           (None, 50, 50, 128)       73856     \n",
            "                                                                 \n",
            " batch_normalization_4 (Bat  (None, 50, 50, 128)       512       \n",
            " chNormalization)                                                \n",
            "                                                                 \n",
            " max_pooling2d_2 (MaxPoolin  (None, 25, 25, 128)       0         \n",
            " g2D)                                                            \n",
            "                                                                 \n",
            " dropout_1 (Dropout)         (None, 25, 25, 128)       0         \n",
            "                                                                 \n",
            " flatten (Flatten)           (None, 80000)             0         \n",
            "                                                                 \n",
            " dense (Dense)               (None, 256)               20480256  \n",
            "                                                                 \n",
            " batch_normalization_5 (Bat  (None, 256)               1024      \n",
            " chNormalization)                                                \n",
            "                                                                 \n",
            " dropout_2 (Dropout)         (None, 256)               0         \n",
            "                                                                 \n",
            " dense_1 (Dense)             (None, 1)                 257       \n",
            "                                                                 \n",
            "=================================================================\n",
            "Total params: 20622241 (78.67 MB)\n",
            "Trainable params: 20621089 (78.66 MB)\n",
            "Non-trainable params: 1152 (4.50 KB)\n",
            "_________________________________________________________________\n"
          ]
        }
      ],
      "source": [
        "model = Sequential()\n",
        "\n",
        "model.add(Conv2D(32, (3,3), input_shape = (IMAGE_HEIGHT,IMAGE_WIDTH, 3),padding = 'same', activation = 'relu'))\n",
        "model.add(BatchNormalization())\n",
        "model.add(Conv2D(32, (3,3),padding = 'same', activation = 'relu'))\n",
        "model.add(BatchNormalization())\n",
        "model.add(MaxPooling2D(2,2))\n",
        "model.add(Dropout(0.2))\n",
        "\n",
        "model.add(Conv2D(64, (3,3),padding = 'same', activation = 'relu'))\n",
        "model.add(BatchNormalization())\n",
        "model.add(Conv2D(64, (3,3),padding = 'same', activation = 'relu'))\n",
        "model.add(BatchNormalization())\n",
        "model.add(MaxPooling2D(2,2))\n",
        "model.add(Conv2D(128, (3,3),padding = 'same', activation = 'relu'))\n",
        "model.add(BatchNormalization())\n",
        "model.add(MaxPooling2D(2,2))\n",
        "model.add(Dropout(0.2))\n",
        "\n",
        "model.add(Flatten())\n",
        "model.add(Dense(256, activation = 'relu'))\n",
        "model.add(BatchNormalization())\n",
        "model.add(Dropout(0.3))\n",
        "model.add(Dense(1, activation = 'sigmoid'))\n",
        "\n",
        "model.summary()"
      ]
    },
    {
      "cell_type": "code",
      "execution_count": 24,
      "metadata": {
        "id": "7W7MHS1RmILC"
      },
      "outputs": [],
      "source": [
        "class AccuracyCallback(tf.keras.callbacks.Callback):\n",
        "    def on_epoch_end(self, epoch, logs=None):\n",
        "        if logs.get('val_accuracy') >= 0.88:\n",
        "            print(\"\\nReached 88% validation accuracy, so stopping training!\")\n",
        "            self.model.stop_training = True\n",
        "\n",
        "accuracy_callback = AccuracyCallback()"
      ]
    },
    {
      "cell_type": "code",
      "execution_count": 16,
      "metadata": {
        "id": "mgEg5ZCYX-X7"
      },
      "outputs": [],
      "source": [
        "model.compile(optimizer = Adam(learning_rate = 0.0001),\n",
        "              loss='binary_crossentropy',\n",
        "              metrics=['accuracy'])"
      ]
    },
    {
      "cell_type": "code",
      "execution_count": null,
      "metadata": {
        "colab": {
          "base_uri": "https://localhost:8080/"
        },
        "id": "TjkAjiYKaGwR",
        "outputId": "ff02babb-46aa-4136-cb5e-35c443d03f32"
      },
      "outputs": [
        {
          "data": {
            "text/plain": [
              "50"
            ]
          },
          "execution_count": 13,
          "metadata": {},
          "output_type": "execute_result"
        }
      ],
      "source": [
        "len(training_images)"
      ]
    },
    {
      "cell_type": "code",
      "execution_count": 25,
      "metadata": {
        "colab": {
          "base_uri": "https://localhost:8080/"
        },
        "id": "WPtK7pjZZu1Z",
        "outputId": "3b1b505e-195f-4602-f291-1d74f21284de"
      },
      "outputs": [
        {
          "output_type": "stream",
          "name": "stdout",
          "text": [
            "Epoch 1/80\n",
            "50/50 [==============================] - 32s 642ms/step - loss: 0.2321 - accuracy: 0.9072 - val_loss: 0.5768 - val_accuracy: 0.8138\n",
            "Epoch 2/80\n",
            "50/50 [==============================] - 27s 532ms/step - loss: 0.2362 - accuracy: 0.9015 - val_loss: 0.4744 - val_accuracy: 0.8393\n",
            "Epoch 3/80\n",
            "50/50 [==============================] - 27s 534ms/step - loss: 0.2399 - accuracy: 0.8990 - val_loss: 0.3779 - val_accuracy: 0.8648\n",
            "Epoch 4/80\n",
            "50/50 [==============================] - 27s 533ms/step - loss: 0.2103 - accuracy: 0.9079 - val_loss: 0.4052 - val_accuracy: 0.8546\n",
            "Epoch 5/80\n",
            "50/50 [==============================] - 28s 569ms/step - loss: 0.2242 - accuracy: 0.9091 - val_loss: 0.7300 - val_accuracy: 0.7934\n",
            "Epoch 6/80\n",
            "50/50 [==============================] - 26s 517ms/step - loss: 0.2492 - accuracy: 0.9028 - val_loss: 0.6421 - val_accuracy: 0.8444\n",
            "Epoch 7/80\n",
            "50/50 [==============================] - 27s 533ms/step - loss: 0.2327 - accuracy: 0.9047 - val_loss: 0.4572 - val_accuracy: 0.8495\n",
            "Epoch 8/80\n",
            "50/50 [==============================] - 26s 515ms/step - loss: 0.2192 - accuracy: 0.9161 - val_loss: 0.6911 - val_accuracy: 0.8214\n",
            "Epoch 9/80\n",
            "50/50 [==============================] - 26s 511ms/step - loss: 0.1970 - accuracy: 0.9257 - val_loss: 0.4205 - val_accuracy: 0.8776\n",
            "Epoch 10/80\n",
            "50/50 [==============================] - 26s 528ms/step - loss: 0.2154 - accuracy: 0.9149 - val_loss: 0.5482 - val_accuracy: 0.8316\n",
            "Epoch 11/80\n",
            "50/50 [==============================] - 27s 531ms/step - loss: 0.1929 - accuracy: 0.9250 - val_loss: 0.5076 - val_accuracy: 0.8291\n",
            "Epoch 12/80\n",
            "50/50 [==============================] - 26s 528ms/step - loss: 0.2022 - accuracy: 0.9199 - val_loss: 0.5226 - val_accuracy: 0.8495\n",
            "Epoch 13/80\n",
            "50/50 [==============================] - 26s 529ms/step - loss: 0.2045 - accuracy: 0.9123 - val_loss: 0.4371 - val_accuracy: 0.8673\n",
            "Epoch 14/80\n",
            "50/50 [==============================] - 28s 567ms/step - loss: 0.2091 - accuracy: 0.9193 - val_loss: 0.9496 - val_accuracy: 0.7934\n",
            "Epoch 15/80\n",
            "50/50 [==============================] - 26s 529ms/step - loss: 0.2172 - accuracy: 0.9066 - val_loss: 0.4994 - val_accuracy: 0.8699\n",
            "Epoch 16/80\n",
            "50/50 [==============================] - 26s 531ms/step - loss: 0.2098 - accuracy: 0.9161 - val_loss: 0.4670 - val_accuracy: 0.8546\n",
            "Epoch 17/80\n",
            "50/50 [==============================] - 27s 532ms/step - loss: 0.2121 - accuracy: 0.9130 - val_loss: 0.4767 - val_accuracy: 0.8571\n",
            "Epoch 18/80\n",
            "50/50 [==============================] - 26s 524ms/step - loss: 0.2000 - accuracy: 0.9130 - val_loss: 0.4368 - val_accuracy: 0.8444\n",
            "Epoch 19/80\n",
            "50/50 [==============================] - 27s 528ms/step - loss: 0.2110 - accuracy: 0.9161 - val_loss: 0.4389 - val_accuracy: 0.8469\n",
            "Epoch 20/80\n",
            "50/50 [==============================] - 31s 630ms/step - loss: 0.2211 - accuracy: 0.9155 - val_loss: 0.4793 - val_accuracy: 0.8444\n",
            "Epoch 21/80\n",
            "50/50 [==============================] - 27s 531ms/step - loss: 0.1785 - accuracy: 0.9307 - val_loss: 0.4796 - val_accuracy: 0.8214\n",
            "Epoch 22/80\n",
            "50/50 [==============================] - 27s 530ms/step - loss: 0.1887 - accuracy: 0.9282 - val_loss: 0.5218 - val_accuracy: 0.8393\n",
            "Epoch 23/80\n",
            "50/50 [==============================] - 28s 560ms/step - loss: 0.1938 - accuracy: 0.9199 - val_loss: 0.4646 - val_accuracy: 0.8648\n",
            "Epoch 24/80\n",
            "50/50 [==============================] - 26s 526ms/step - loss: 0.1772 - accuracy: 0.9269 - val_loss: 0.4963 - val_accuracy: 0.8597\n",
            "Epoch 25/80\n",
            "50/50 [==============================] - 26s 528ms/step - loss: 0.1911 - accuracy: 0.9244 - val_loss: 0.5350 - val_accuracy: 0.8444\n",
            "Epoch 26/80\n",
            "50/50 [==============================] - 26s 525ms/step - loss: 0.2037 - accuracy: 0.9206 - val_loss: 0.4704 - val_accuracy: 0.8648\n",
            "Epoch 27/80\n",
            "50/50 [==============================] - 31s 616ms/step - loss: 0.1973 - accuracy: 0.9104 - val_loss: 0.4712 - val_accuracy: 0.8546\n",
            "Epoch 28/80\n",
            "50/50 [==============================] - 26s 519ms/step - loss: 0.1973 - accuracy: 0.9212 - val_loss: 0.5018 - val_accuracy: 0.8444\n",
            "Epoch 29/80\n",
            "50/50 [==============================] - 26s 523ms/step - loss: 0.1829 - accuracy: 0.9238 - val_loss: 0.5046 - val_accuracy: 0.8469\n",
            "Epoch 30/80\n",
            "50/50 [==============================] - 26s 513ms/step - loss: 0.1989 - accuracy: 0.9219 - val_loss: 0.5061 - val_accuracy: 0.8265\n",
            "Epoch 31/80\n",
            "50/50 [==============================] - 28s 552ms/step - loss: 0.1909 - accuracy: 0.9257 - val_loss: 0.6023 - val_accuracy: 0.8342\n",
            "Epoch 32/80\n",
            "50/50 [==============================] - 31s 615ms/step - loss: 0.1882 - accuracy: 0.9244 - val_loss: 0.5657 - val_accuracy: 0.8291\n",
            "Epoch 33/80\n",
            "50/50 [==============================] - 26s 521ms/step - loss: 0.1831 - accuracy: 0.9288 - val_loss: 0.5321 - val_accuracy: 0.8393\n",
            "Epoch 34/80\n",
            "50/50 [==============================] - 25s 505ms/step - loss: 0.1646 - accuracy: 0.9396 - val_loss: 0.4349 - val_accuracy: 0.8648\n",
            "Epoch 35/80\n",
            "50/50 [==============================] - 26s 518ms/step - loss: 0.1735 - accuracy: 0.9250 - val_loss: 0.4211 - val_accuracy: 0.8342\n",
            "Epoch 36/80\n",
            "50/50 [==============================] - 25s 506ms/step - loss: 0.1927 - accuracy: 0.9231 - val_loss: 0.6314 - val_accuracy: 0.8316\n",
            "Epoch 37/80\n",
            "50/50 [==============================] - 25s 497ms/step - loss: 0.1928 - accuracy: 0.9269 - val_loss: 0.4282 - val_accuracy: 0.8622\n",
            "Epoch 38/80\n",
            "50/50 [==============================] - 26s 518ms/step - loss: 0.1756 - accuracy: 0.9288 - val_loss: 0.5865 - val_accuracy: 0.8214\n",
            "Epoch 39/80\n",
            "50/50 [==============================] - 26s 517ms/step - loss: 0.1504 - accuracy: 0.9390 - val_loss: 0.4320 - val_accuracy: 0.8546\n",
            "Epoch 40/80\n",
            "50/50 [==============================] - 28s 560ms/step - loss: 0.1640 - accuracy: 0.9409 - val_loss: 0.4810 - val_accuracy: 0.8444\n",
            "Epoch 41/80\n",
            "50/50 [==============================] - 26s 517ms/step - loss: 0.1478 - accuracy: 0.9435 - val_loss: 0.5766 - val_accuracy: 0.8189\n",
            "Epoch 42/80\n",
            "50/50 [==============================] - 26s 520ms/step - loss: 0.1542 - accuracy: 0.9428 - val_loss: 0.5315 - val_accuracy: 0.8444\n",
            "Epoch 43/80\n",
            "50/50 [==============================] - 26s 516ms/step - loss: 0.1840 - accuracy: 0.9250 - val_loss: 0.6606 - val_accuracy: 0.8571\n",
            "Epoch 44/80\n",
            "50/50 [==============================] - 26s 522ms/step - loss: 0.1766 - accuracy: 0.9282 - val_loss: 0.4391 - val_accuracy: 0.8622\n",
            "Epoch 45/80\n",
            "50/50 [==============================] - 25s 498ms/step - loss: 0.1534 - accuracy: 0.9409 - val_loss: 0.4988 - val_accuracy: 0.8418\n",
            "Epoch 46/80\n",
            "50/50 [==============================] - ETA: 0s - loss: 0.1682 - accuracy: 0.9377\n",
            "Reached 88% validation accuracy, so stopping training!\n",
            "50/50 [==============================] - 26s 522ms/step - loss: 0.1682 - accuracy: 0.9377 - val_loss: 0.4260 - val_accuracy: 0.8827\n"
          ]
        }
      ],
      "source": [
        "history = model.fit(training_images,\n",
        "                    validation_data = validation_images,\n",
        "                    epochs=80,\n",
        "                    callbacks= [accuracy_callback],\n",
        "                    verbose=1)"
      ]
    },
    {
      "cell_type": "code",
      "execution_count": 26,
      "metadata": {
        "colab": {
          "base_uri": "https://localhost:8080/",
          "height": 473
        },
        "id": "D3X13PZnaL1j",
        "outputId": "4f3fef30-76cb-48a9-b496-42c9d2277d19"
      },
      "outputs": [
        {
          "output_type": "stream",
          "name": "stdout",
          "text": [
            "13/13 - 5s - loss: 0.5246 - accuracy: 0.8418 - 5s/epoch - 398ms/step\n"
          ]
        },
        {
          "output_type": "display_data",
          "data": {
            "text/plain": [
              "<Figure size 640x480 with 1 Axes>"
            ],
            "image/png": "[encoded data removed]"
          },
          "metadata": {}
        }
      ],
      "source": [
        "plt.plot(history.history['accuracy'], label='accuracy')\n",
        "plt.plot(history.history['val_accuracy'], label = 'val_accuracy')\n",
        "plt.xlabel('Epoch')\n",
        "plt.ylabel('Accuracy')\n",
        "plt.ylim([0.5, 1])\n",
        "plt.legend(loc='lower right')\n",
        "\n",
        "test_loss, test_acc = model.evaluate(validation_images, verbose=2)"
      ]
    },
    {
      "cell_type": "code",
      "execution_count": 27,
      "metadata": {
        "id": "Scq9UnkteGnS"
      },
      "outputs": [],
      "source": [
        "from tensorflow.keras.preprocessing import image\n",
        "import numpy as np\n",
        "from google.colab import files\n",
        "\n",
        "def load_and_predict(model):\n",
        "    uploaded_files = files.upload()\n",
        "\n",
        "    for fn in uploaded_files.keys():\n",
        "        path = '/content/' + fn\n",
        "        img = image.load_img(path, target_size=(200,200))\n",
        "\n",
        "        x = image.img_to_array(img)\n",
        "        x = np.expand_dims(x, axis=0) / 255.0\n",
        "\n",
        "        classes = model.predict(x)\n",
        "        results = [\"a pizza\" if score > 0.5 else \"not a pizza\" for score in classes[0]]\n",
        "\n",
        "        print(f'The model predicts that the image is {results[0]}')"
      ]
    },
    {
      "cell_type": "code",
      "execution_count": 28,
      "metadata": {
        "colab": {
          "base_uri": "https://localhost:8080/",
          "height": 1000
        },
        "id": "qSOcIpr_0GWw",
        "outputId": "717535ea-19bd-45ad-babc-49e02a51894a"
      },
      "outputs": [
        {
          "output_type": "display_data",
          "data": {
            "text/plain": [
              "<IPython.core.display.HTML object>"
            ],
            "text/html": [
              "\n",
              "     <input type=\"file\" id=\"files-3b15539d-60ea-437a-83b3-440253d10880\" name=\"files[]\" multiple disabled\n",
              "        style=\"border:none\" />\n",
              "     <output id=\"result-3b15539d-60ea-437a-83b3-440253d10880\">\n",
              "      Upload widget is only available when the cell has been executed in the\n",
              "      current browser session. Please rerun this cell to enable.\n",
              "      </output>\n",
              "      <script>// Copyright 2017 Google LLC\n",
              "//\n",
              "// Licensed under the Apache License, Version 2.0 (the \"License\");\n",
              "// you may not use this file except in compliance with the License.\n",
              "// You may obtain a copy of the License at\n",
              "//\n",
              "//      http://www.apache.org/licenses/LICENSE-2.0\n",
              "//\n",
              "// Unless required by applicable law or agreed to in writing, software\n",
              "// distributed under the License is distributed on an \"AS IS\" BASIS,\n",
              "// WITHOUT WARRANTIES OR CONDITIONS OF ANY KIND, either express or implied.\n",
              "// See the License for the specific language governing permissions and\n",
              "// limitations under the License.\n",
              "\n",
              "/**\n",
              " * @fileoverview Helpers for google.colab Python module.\n",
              " */\n",
              "(function(scope) {\n",
              "function span(text, styleAttributes = {}) {\n",
              "  const element = document.createElement('span');\n",
              "  element.textContent = text;\n",
              "  for (const key of Object.keys(styleAttributes)) {\n",
              "    element.style[key] = styleAttributes[key];\n",
              "  }\n",
              "  return element;\n",
              "}\n",
              "\n",
              "// Max number of bytes which will be uploaded at a time.\n",
              "const MAX_PAYLOAD_SIZE = 100 * 1024;\n",
              "\n",
              "function _uploadFiles(inputId, outputId) {\n",
              "  const steps = uploadFilesStep(inputId, outputId);\n",
              "  const outputElement = document.getElementById(outputId);\n",
              "  // Cache steps on the outputElement to make it available for the next call\n",
              "  // to uploadFilesContinue from Python.\n",
              "  outputElement.steps = steps;\n",
              "\n",
              "  return _uploadFilesContinue(outputId);\n",
              "}\n",
              "\n",
              "// This is roughly an async generator (not supported in the browser yet),\n",
              "// where there are multiple asynchronous steps and the Python side is going\n",
              "// to poll for completion of each step.\n",
              "// This uses a Promise to block the python side on completion of each step,\n",
              "// then passes the result of the previous step as the input to the next step.\n",
              "function _uploadFilesContinue(outputId) {\n",
              "  const outputElement = document.getElementById(outputId);\n",
              "  const steps = outputElement.steps;\n",
              "\n",
              "  const next = steps.next(outputElement.lastPromiseValue);\n",
              "  return Promise.resolve(next.value.promise).then((value) => {\n",
              "    // Cache the last promise value to make it available to the next\n",
              "    // step of the generator.\n",
              "    outputElement.lastPromiseValue = value;\n",
              "    return next.value.response;\n",
              "  });\n",
              "}\n",
              "\n",
              "/**\n",
              " * Generator function which is called between each async step of the upload\n",
              " * process.\n",
              " * @param {string} inputId Element ID of the input file picker element.\n",
              " * @param {string} outputId Element ID of the output display.\n",
              " * @return {!Iterable<!Object>} Iterable of next steps.\n",
              " */\n",
              "function* uploadFilesStep(inputId, outputId) {\n",
              "  const inputElement = document.getElementById(inputId);\n",
              "  inputElement.disabled = false;\n",
              "\n",
              "  const outputElement = document.getElementById(outputId);\n",
              "  outputElement.innerHTML = '';\n",
              "\n",
              "  const pickedPromise = new Promise((resolve) => {\n",
              "    inputElement.addEventListener('change', (e) => {\n",
              "      resolve(e.target.files);\n",
              "    });\n",
              "  });\n",
              "\n",
              "  const cancel = document.createElement('button');\n",
              "  inputElement.parentElement.appendChild(cancel);\n",
              "  cancel.textContent = 'Cancel upload';\n",
              "  const cancelPromise = new Promise((resolve) => {\n",
              "    cancel.onclick = () => {\n",
              "      resolve(null);\n",
              "    };\n",
              "  });\n",
              "\n",
              "  // Wait for the user to pick the files.\n",
              "  const files = yield {\n",
              "    promise: Promise.race([pickedPromise, cancelPromise]),\n",
              "    response: {\n",
              "      action: 'starting',\n",
              "    }\n",
              "  };\n",
              "\n",
              "  cancel.remove();\n",
              "\n",
              "  // Disable the input element since further picks are not allowed.\n",
              "  inputElement.disabled = true;\n",
              "\n",
              "  if (!files) {\n",
              "    return {\n",
              "      response: {\n",
              "        action: 'complete',\n",
              "      }\n",
              "    };\n",
              "  }\n",
              "\n",
              "  for (const file of files) {\n",
              "    const li = document.createElement('li');\n",
              "    li.append(span(file.name, {fontWeight: 'bold'}));\n",
              "    li.append(span(\n",
              "        `(${file.type || 'n/a'}) - ${file.size} bytes, ` +\n",
              "        `last modified: ${\n",
              "            file.lastModifiedDate ? file.lastModifiedDate.toLocaleDateString() :\n",
              "                                    'n/a'} - `));\n",
              "    const percent = span('0% done');\n",
              "    li.appendChild(percent);\n",
              "\n",
              "    outputElement.appendChild(li);\n",
              "\n",
              "    const fileDataPromise = new Promise((resolve) => {\n",
              "      const reader = new FileReader();\n",
              "      reader.onload = (e) => {\n",
              "        resolve(e.target.result);\n",
              "      };\n",
              "      reader.readAsArrayBuffer(file);\n",
              "    });\n",
              "    // Wait for the data to be ready.\n",
              "    let fileData = yield {\n",
              "      promise: fileDataPromise,\n",
              "      response: {\n",
              "        action: 'continue',\n",
              "      }\n",
              "    };\n",
              "\n",
              "    // Use a chunked sending to avoid message size limits. See b/62115660.\n",
              "    let position = 0;\n",
              "    do {\n",
              "      const length = Math.min(fileData.byteLength - position, MAX_PAYLOAD_SIZE);\n",
              "      const chunk = new Uint8Array(fileData, position, length);\n",
              "      position += length;\n",
              "\n",
              "      const base64 = btoa(String.fromCharCode.apply(null, chunk));\n",
              "      yield {\n",
              "        response: {\n",
              "          action: 'append',\n",
              "          file: file.name,\n",
              "          data: base64,\n",
              "        },\n",
              "      };\n",
              "\n",
              "      let percentDone = fileData.byteLength === 0 ?\n",
              "          100 :\n",
              "          Math.round((position / fileData.byteLength) * 100);\n",
              "      percent.textContent = `${percentDone}% done`;\n",
              "\n",
              "    } while (position < fileData.byteLength);\n",
              "  }\n",
              "\n",
              "  // All done.\n",
              "  yield {\n",
              "    response: {\n",
              "      action: 'complete',\n",
              "    }\n",
              "  };\n",
              "}\n",
              "\n",
              "scope.google = scope.google || {};\n",
              "scope.google.colab = scope.google.colab || {};\n",
              "scope.google.colab._files = {\n",
              "  _uploadFiles,\n",
              "  _uploadFilesContinue,\n",
              "};\n",
              "})(self);\n",
              "</script> "
            ]
          },
          "metadata": {}
        },
        {
          "output_type": "stream",
          "name": "stdout",
          "text": [
            "Saving salmon-518032_640.jpg to salmon-518032_640 (1).jpg\n",
            "Saving vegetables-1085063_640.jpg to vegetables-1085063_640 (2).jpg\n",
            "Saving vegetables-752153_640.jpg to vegetables-752153_640 (1).jpg\n",
            "Saving soup-4055647_640.jpg to soup-4055647_640 (1).jpg\n",
            "Saving cake-1971552_640(1).jpg to cake-1971552_640(1) (1).jpg\n",
            "Saving cake-1850011_640.jpg to cake-1850011_640 (2).jpg\n",
            "Saving cake-1971552_640.jpg to cake-1971552_640 (1).jpg\n",
            "Saving spaghetti-1392266_640.jpg to spaghetti-1392266_640 (1).jpg\n",
            "Saving bulldog-1047518_640.jpg to bulldog-1047518_640 (1).jpg\n",
            "Saving puppy-1903313_640.jpg to puppy-1903313_640 (1).jpg\n",
            "Saving dog-1839808_640.jpg to dog-1839808_640 (1).jpg\n",
            "Saving kitten-4611189_640 (1).jpg to kitten-4611189_640 (1) (1).jpg\n",
            "Saving cat-1192026_640 (1).jpg to cat-1192026_640 (1) (1).jpg\n",
            "Saving cat-2083492_640.jpg to cat-2083492_640 (1).jpg\n",
            "Saving cat-5098930_640.jpg to cat-5098930_640 (1).jpg\n",
            "1/1 [==============================] - 0s 18ms/step\n",
            "The model predicts that the image is not a pizza\n",
            "1/1 [==============================] - 0s 18ms/step\n",
            "The model predicts that the image is not a pizza\n",
            "1/1 [==============================] - 0s 18ms/step\n",
            "The model predicts that the image is not a pizza\n",
            "1/1 [==============================] - 0s 18ms/step\n",
            "The model predicts that the image is not a pizza\n",
            "1/1 [==============================] - 0s 17ms/step\n",
            "The model predicts that the image is not a pizza\n",
            "1/1 [==============================] - 0s 18ms/step\n",
            "The model predicts that the image is not a pizza\n",
            "1/1 [==============================] - 0s 20ms/step\n",
            "The model predicts that the image is not a pizza\n",
            "1/1 [==============================] - 0s 21ms/step\n",
            "The model predicts that the image is a pizza\n",
            "1/1 [==============================] - 0s 19ms/step\n",
            "The model predicts that the image is not a pizza\n",
            "1/1 [==============================] - 0s 18ms/step\n",
            "The model predicts that the image is not a pizza\n",
            "1/1 [==============================] - 0s 20ms/step\n",
            "The model predicts that the image is not a pizza\n",
            "1/1 [==============================] - 0s 22ms/step\n",
            "The model predicts that the image is not a pizza\n",
            "1/1 [==============================] - 0s 17ms/step\n",
            "The model predicts that the image is not a pizza\n",
            "1/1 [==============================] - 0s 23ms/step\n",
            "The model predicts that the image is not a pizza\n",
            "1/1 [==============================] - 0s 19ms/step\n",
            "The model predicts that the image is not a pizza\n"
          ]
        }
      ],
      "source": [
        "load_and_predict(model)"
      ]
    },
    {
      "cell_type": "code",
      "source": [
        "load_and_predict(model)"
      ],
      "metadata": {
        "colab": {
          "base_uri": "https://localhost:8080/",
          "height": 610
        },
        "id": "ZpbO_GdrEd6l",
        "outputId": "5ca2f77e-ad12-4ae9-eeb8-7e1060d95858"
      },
      "execution_count": 29,
      "outputs": [
        {
          "output_type": "display_data",
          "data": {
            "text/plain": [
              "<IPython.core.display.HTML object>"
            ],
            "text/html": [
              "\n",
              "     <input type=\"file\" id=\"files-50dbe728-25bb-4eb2-a6b4-41cde14ca5b9\" name=\"files[]\" multiple disabled\n",
              "        style=\"border:none\" />\n",
              "     <output id=\"result-50dbe728-25bb-4eb2-a6b4-41cde14ca5b9\">\n",
              "      Upload widget is only available when the cell has been executed in the\n",
              "      current browser session. Please rerun this cell to enable.\n",
              "      </output>\n",
              "      <script>// Copyright 2017 Google LLC\n",
              "//\n",
              "// Licensed under the Apache License, Version 2.0 (the \"License\");\n",
              "// you may not use this file except in compliance with the License.\n",
              "// You may obtain a copy of the License at\n",
              "//\n",
              "//      http://www.apache.org/licenses/LICENSE-2.0\n",
              "//\n",
              "// Unless required by applicable law or agreed to in writing, software\n",
              "// distributed under the License is distributed on an \"AS IS\" BASIS,\n",
              "// WITHOUT WARRANTIES OR CONDITIONS OF ANY KIND, either express or implied.\n",
              "// See the License for the specific language governing permissions and\n",
              "// limitations under the License.\n",
              "\n",
              "/**\n",
              " * @fileoverview Helpers for google.colab Python module.\n",
              " */\n",
              "(function(scope) {\n",
              "function span(text, styleAttributes = {}) {\n",
              "  const element = document.createElement('span');\n",
              "  element.textContent = text;\n",
              "  for (const key of Object.keys(styleAttributes)) {\n",
              "    element.style[key] = styleAttributes[key];\n",
              "  }\n",
              "  return element;\n",
              "}\n",
              "\n",
              "// Max number of bytes which will be uploaded at a time.\n",
              "const MAX_PAYLOAD_SIZE = 100 * 1024;\n",
              "\n",
              "function _uploadFiles(inputId, outputId) {\n",
              "  const steps = uploadFilesStep(inputId, outputId);\n",
              "  const outputElement = document.getElementById(outputId);\n",
              "  // Cache steps on the outputElement to make it available for the next call\n",
              "  // to uploadFilesContinue from Python.\n",
              "  outputElement.steps = steps;\n",
              "\n",
              "  return _uploadFilesContinue(outputId);\n",
              "}\n",
              "\n",
              "// This is roughly an async generator (not supported in the browser yet),\n",
              "// where there are multiple asynchronous steps and the Python side is going\n",
              "// to poll for completion of each step.\n",
              "// This uses a Promise to block the python side on completion of each step,\n",
              "// then passes the result of the previous step as the input to the next step.\n",
              "function _uploadFilesContinue(outputId) {\n",
              "  const outputElement = document.getElementById(outputId);\n",
              "  const steps = outputElement.steps;\n",
              "\n",
              "  const next = steps.next(outputElement.lastPromiseValue);\n",
              "  return Promise.resolve(next.value.promise).then((value) => {\n",
              "    // Cache the last promise value to make it available to the next\n",
              "    // step of the generator.\n",
              "    outputElement.lastPromiseValue = value;\n",
              "    return next.value.response;\n",
              "  });\n",
              "}\n",
              "\n",
              "/**\n",
              " * Generator function which is called between each async step of the upload\n",
              " * process.\n",
              " * @param {string} inputId Element ID of the input file picker element.\n",
              " * @param {string} outputId Element ID of the output display.\n",
              " * @return {!Iterable<!Object>} Iterable of next steps.\n",
              " */\n",
              "function* uploadFilesStep(inputId, outputId) {\n",
              "  const inputElement = document.getElementById(inputId);\n",
              "  inputElement.disabled = false;\n",
              "\n",
              "  const outputElement = document.getElementById(outputId);\n",
              "  outputElement.innerHTML = '';\n",
              "\n",
              "  const pickedPromise = new Promise((resolve) => {\n",
              "    inputElement.addEventListener('change', (e) => {\n",
              "      resolve(e.target.files);\n",
              "    });\n",
              "  });\n",
              "\n",
              "  const cancel = document.createElement('button');\n",
              "  inputElement.parentElement.appendChild(cancel);\n",
              "  cancel.textContent = 'Cancel upload';\n",
              "  const cancelPromise = new Promise((resolve) => {\n",
              "    cancel.onclick = () => {\n",
              "      resolve(null);\n",
              "    };\n",
              "  });\n",
              "\n",
              "  // Wait for the user to pick the files.\n",
              "  const files = yield {\n",
              "    promise: Promise.race([pickedPromise, cancelPromise]),\n",
              "    response: {\n",
              "      action: 'starting',\n",
              "    }\n",
              "  };\n",
              "\n",
              "  cancel.remove();\n",
              "\n",
              "  // Disable the input element since further picks are not allowed.\n",
              "  inputElement.disabled = true;\n",
              "\n",
              "  if (!files) {\n",
              "    return {\n",
              "      response: {\n",
              "        action: 'complete',\n",
              "      }\n",
              "    };\n",
              "  }\n",
              "\n",
              "  for (const file of files) {\n",
              "    const li = document.createElement('li');\n",
              "    li.append(span(file.name, {fontWeight: 'bold'}));\n",
              "    li.append(span(\n",
              "        `(${file.type || 'n/a'}) - ${file.size} bytes, ` +\n",
              "        `last modified: ${\n",
              "            file.lastModifiedDate ? file.lastModifiedDate.toLocaleDateString() :\n",
              "                                    'n/a'} - `));\n",
              "    const percent = span('0% done');\n",
              "    li.appendChild(percent);\n",
              "\n",
              "    outputElement.appendChild(li);\n",
              "\n",
              "    const fileDataPromise = new Promise((resolve) => {\n",
              "      const reader = new FileReader();\n",
              "      reader.onload = (e) => {\n",
              "        resolve(e.target.result);\n",
              "      };\n",
              "      reader.readAsArrayBuffer(file);\n",
              "    });\n",
              "    // Wait for the data to be ready.\n",
              "    let fileData = yield {\n",
              "      promise: fileDataPromise,\n",
              "      response: {\n",
              "        action: 'continue',\n",
              "      }\n",
              "    };\n",
              "\n",
              "    // Use a chunked sending to avoid message size limits. See b/62115660.\n",
              "    let position = 0;\n",
              "    do {\n",
              "      const length = Math.min(fileData.byteLength - position, MAX_PAYLOAD_SIZE);\n",
              "      const chunk = new Uint8Array(fileData, position, length);\n",
              "      position += length;\n",
              "\n",
              "      const base64 = btoa(String.fromCharCode.apply(null, chunk));\n",
              "      yield {\n",
              "        response: {\n",
              "          action: 'append',\n",
              "          file: file.name,\n",
              "          data: base64,\n",
              "        },\n",
              "      };\n",
              "\n",
              "      let percentDone = fileData.byteLength === 0 ?\n",
              "          100 :\n",
              "          Math.round((position / fileData.byteLength) * 100);\n",
              "      percent.textContent = `${percentDone}% done`;\n",
              "\n",
              "    } while (position < fileData.byteLength);\n",
              "  }\n",
              "\n",
              "  // All done.\n",
              "  yield {\n",
              "    response: {\n",
              "      action: 'complete',\n",
              "    }\n",
              "  };\n",
              "}\n",
              "\n",
              "scope.google = scope.google || {};\n",
              "scope.google.colab = scope.google.colab || {};\n",
              "scope.google.colab._files = {\n",
              "  _uploadFiles,\n",
              "  _uploadFilesContinue,\n",
              "};\n",
              "})(self);\n",
              "</script> "
            ]
          },
          "metadata": {}
        },
        {
          "output_type": "stream",
          "name": "stdout",
          "text": [
            "Saving pizza-329523_640.jpg to pizza-329523_640.jpg\n",
            "Saving pizza-2068272_640(1).jpg to pizza-2068272_640(1).jpg\n",
            "Saving pizza-6478478_640.jpg to pizza-6478478_640.jpg\n",
            "Saving pizza-397942_640.jpg to pizza-397942_640.jpg\n",
            "Saving pizza-2589575_640.jpg to pizza-2589575_640 (1).jpg\n",
            "Saving pizza-1344720_640.jpg to pizza-1344720_640 (2).jpg\n",
            "Saving pizza-3000285_640.png to pizza-3000285_640 (1).png\n",
            "Saving pizza-2068272_640.jpg to pizza-2068272_640 (2).jpg\n",
            "1/1 [==============================] - 0s 29ms/step\n",
            "The model predicts that the image is a pizza\n",
            "1/1 [==============================] - 0s 26ms/step\n",
            "The model predicts that the image is a pizza\n",
            "1/1 [==============================] - 0s 29ms/step\n",
            "The model predicts that the image is not a pizza\n",
            "1/1 [==============================] - 0s 18ms/step\n",
            "The model predicts that the image is a pizza\n",
            "1/1 [==============================] - 0s 21ms/step\n",
            "The model predicts that the image is a pizza\n",
            "1/1 [==============================] - 0s 19ms/step\n",
            "The model predicts that the image is a pizza\n",
            "1/1 [==============================] - 0s 20ms/step\n",
            "The model predicts that the image is a pizza\n",
            "1/1 [==============================] - 0s 17ms/step\n",
            "The model predicts that the image is a pizza\n"
          ]
        }
      ]
    },
    {
      "cell_type": "code",
      "source": [],
      "metadata": {
        "id": "yZtachv-MWdf"
      },
      "execution_count": null,
      "outputs": []
    }
  ],
  "metadata": {
    "accelerator": "GPU",
    "colab": {
      "provenance": [],
      "authorship_tag": "ABX9TyOMRa4dQ4vHtI5FMlYqF/3m",
      "include_colab_link": true
    },
    "kernelspec": {
      "display_name": "Python 3",
      "name": "python3"
    },
    "language_info": {
      "name": "python"
    }
  },
  "nbformat": 4,
  "nbformat_minor": 0
}